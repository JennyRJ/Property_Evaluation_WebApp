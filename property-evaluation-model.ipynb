{
 "cells": [
  {
   "cell_type": "code",
   "execution_count": 1,
   "id": "4085dc25",
   "metadata": {
    "_cell_guid": "b1076dfc-b9ad-4769-8c92-a6c4dae69d19",
    "_uuid": "8f2839f25d086af736a60e9eeb907d3b93b6e0e5",
    "execution": {
     "iopub.execute_input": "2022-11-24T02:00:15.259260Z",
     "iopub.status.busy": "2022-11-24T02:00:15.258594Z",
     "iopub.status.idle": "2022-11-24T02:00:17.005662Z",
     "shell.execute_reply": "2022-11-24T02:00:17.004153Z"
    },
    "papermill": {
     "duration": 1.760336,
     "end_time": "2022-11-24T02:00:17.008726",
     "exception": false,
     "start_time": "2022-11-24T02:00:15.248390",
     "status": "completed"
    },
    "tags": []
   },
   "outputs": [
    {
     "name": "stdout",
     "output_type": "stream",
     "text": [
      "/kaggle/input/rental-apartments-in-kenya/rent_apts.csv\n"
     ]
    }
   ],
   "source": [
    "# This Python 3 environment comes with many helpful analytics libraries installed\n",
    "# It is defined by the kaggle/python Docker image: https://github.com/kaggle/docker-python\n",
    "# For example, here's several helpful packages to load\n",
    "\n",
    "import numpy as np # linear algebra\n",
    "import pandas as pd # data processing, CSV file I/O (e.g. pd.read_csv)\n",
    "import seaborn as sns\n",
    "import sklearn.datasets\n",
    "from sklearn.model_selection import train_test_split\n",
    "from xgboost import XGBRegressor\n",
    "from sklearn import metrics\n",
    "# Input data files are available in the read-only \"../input/\" directory\n",
    "# For example, running this (by clicking run or pressing Shift+Enter) will list all files under the input directory\n",
    "\n",
    "import os\n",
    "for dirname, _, filenames in os.walk('/kaggle/input'):\n",
    "    for filename in filenames:\n",
    "        print(os.path.join(dirname, filename))\n",
    "\n",
    "# You can write up to 20GB to the current directory (/kaggle/working/) that gets preserved as output when you create a version using \"Save & Run All\" \n",
    "# You can also write temporary files to /kaggle/temp/, but they won't be saved outside of the current session"
   ]
  },
  {
   "cell_type": "markdown",
   "id": "54a9745d",
   "metadata": {
    "papermill": {
     "duration": 0.006477,
     "end_time": "2022-11-24T02:00:17.022130",
     "exception": false,
     "start_time": "2022-11-24T02:00:17.015653",
     "status": "completed"
    },
    "tags": []
   },
   "source": [
    "IMPORT THE DATASET TO BE USED"
   ]
  },
  {
   "cell_type": "code",
   "execution_count": 2,
   "id": "7038464e",
   "metadata": {
    "execution": {
     "iopub.execute_input": "2022-11-24T02:00:17.038806Z",
     "iopub.status.busy": "2022-11-24T02:00:17.038192Z",
     "iopub.status.idle": "2022-11-24T02:00:17.096913Z",
     "shell.execute_reply": "2022-11-24T02:00:17.095489Z"
    },
    "papermill": {
     "duration": 0.070503,
     "end_time": "2022-11-24T02:00:17.100111",
     "exception": false,
     "start_time": "2022-11-24T02:00:17.029608",
     "status": "completed"
    },
    "tags": []
   },
   "outputs": [
    {
     "data": {
      "text/html": [
       "<div>\n",
       "<style scoped>\n",
       "    .dataframe tbody tr th:only-of-type {\n",
       "        vertical-align: middle;\n",
       "    }\n",
       "\n",
       "    .dataframe tbody tr th {\n",
       "        vertical-align: top;\n",
       "    }\n",
       "\n",
       "    .dataframe thead th {\n",
       "        text-align: right;\n",
       "    }\n",
       "</style>\n",
       "<table border=\"1\" class=\"dataframe\">\n",
       "  <thead>\n",
       "    <tr style=\"text-align: right;\">\n",
       "      <th></th>\n",
       "      <th>Agency</th>\n",
       "      <th>Neighborhood</th>\n",
       "      <th>Price</th>\n",
       "      <th>link</th>\n",
       "      <th>sq_mtrs</th>\n",
       "      <th>Bedrooms</th>\n",
       "      <th>Bathrooms</th>\n",
       "    </tr>\n",
       "  </thead>\n",
       "  <tbody>\n",
       "    <tr>\n",
       "      <th>0</th>\n",
       "      <td>Buy Rent Shelters</td>\n",
       "      <td>General Mathenge, Westlands</td>\n",
       "      <td>KSh 155,000</td>\n",
       "      <td>/listings/4-bedroom-apartment-for-rent-general...</td>\n",
       "      <td>4.0</td>\n",
       "      <td>4.0</td>\n",
       "      <td>4.0</td>\n",
       "    </tr>\n",
       "    <tr>\n",
       "      <th>1</th>\n",
       "      <td>Kenya Classic Homes</td>\n",
       "      <td>Kilimani, Dagoretti North</td>\n",
       "      <td>KSh 100,000</td>\n",
       "      <td>/listings/3-bedroom-apartment-for-rent-kiliman...</td>\n",
       "      <td>300.0</td>\n",
       "      <td>3.0</td>\n",
       "      <td>4.0</td>\n",
       "    </tr>\n",
       "    <tr>\n",
       "      <th>2</th>\n",
       "      <td>Absolute Estate Agents</td>\n",
       "      <td>Hatheru Rd,, Lavington, Dagoretti North</td>\n",
       "      <td>KSh 75,000</td>\n",
       "      <td>/listings/3-bedroom-apartment-for-rent-lavingt...</td>\n",
       "      <td>3.0</td>\n",
       "      <td>3.0</td>\n",
       "      <td>5.0</td>\n",
       "    </tr>\n",
       "    <tr>\n",
       "      <th>3</th>\n",
       "      <td>A1 Properties Limited</td>\n",
       "      <td>Kilimani, Dagoretti North</td>\n",
       "      <td>KSh 135,000</td>\n",
       "      <td>/listings/3-bedroom-apartment-for-rent-kiliman...</td>\n",
       "      <td>227.0</td>\n",
       "      <td>3.0</td>\n",
       "      <td>4.0</td>\n",
       "    </tr>\n",
       "    <tr>\n",
       "      <th>4</th>\n",
       "      <td>Pmc Estates Limited</td>\n",
       "      <td>Imara Daima, Embakasi</td>\n",
       "      <td>KSh 50,000</td>\n",
       "      <td>/listings/3-bedroom-apartment-for-rent-imara-d...</td>\n",
       "      <td>3.0</td>\n",
       "      <td>3.0</td>\n",
       "      <td>NaN</td>\n",
       "    </tr>\n",
       "    <tr>\n",
       "      <th>...</th>\n",
       "      <td>...</td>\n",
       "      <td>...</td>\n",
       "      <td>...</td>\n",
       "      <td>...</td>\n",
       "      <td>...</td>\n",
       "      <td>...</td>\n",
       "      <td>...</td>\n",
       "    </tr>\n",
       "    <tr>\n",
       "      <th>1843</th>\n",
       "      <td>Avic International</td>\n",
       "      <td>Laikipia Road, Kileleshwa, Dagoretti North</td>\n",
       "      <td>KSh 180,000</td>\n",
       "      <td>/listings/3-bedroom-apartment-for-rent-kileles...</td>\n",
       "      <td>3.0</td>\n",
       "      <td>3.0</td>\n",
       "      <td>NaN</td>\n",
       "    </tr>\n",
       "    <tr>\n",
       "      <th>1844</th>\n",
       "      <td>Dmus Realtors</td>\n",
       "      <td>Peponi road, Spring Valley, Westlands</td>\n",
       "      <td>KSh 180,000</td>\n",
       "      <td>/listings/2-bedroom-apartment-for-rent-spring-...</td>\n",
       "      <td>2.0</td>\n",
       "      <td>2.0</td>\n",
       "      <td>2.0</td>\n",
       "    </tr>\n",
       "    <tr>\n",
       "      <th>1845</th>\n",
       "      <td>A1 Properties Limited</td>\n",
       "      <td>Kileleshwa, Dagoretti North</td>\n",
       "      <td>KSh 180,000</td>\n",
       "      <td>/listings/furnished-4-bedroom-apartment-for-re...</td>\n",
       "      <td>4.0</td>\n",
       "      <td>4.0</td>\n",
       "      <td>5.0</td>\n",
       "    </tr>\n",
       "    <tr>\n",
       "      <th>1846</th>\n",
       "      <td>Geoscape Global Limited</td>\n",
       "      <td>Westlands Area, Westlands</td>\n",
       "      <td>KSh 180,000</td>\n",
       "      <td>/listings/4-bedroom-apartment-for-rent-westlan...</td>\n",
       "      <td>4.0</td>\n",
       "      <td>4.0</td>\n",
       "      <td>4.0</td>\n",
       "    </tr>\n",
       "    <tr>\n",
       "      <th>1847</th>\n",
       "      <td>Pmc Estates Limited</td>\n",
       "      <td>Kilimani, Dagoretti North</td>\n",
       "      <td>KSh 180,000</td>\n",
       "      <td>/listings/2-bedroom-apartment-for-rent-kiliman...</td>\n",
       "      <td>2.0</td>\n",
       "      <td>2.0</td>\n",
       "      <td>NaN</td>\n",
       "    </tr>\n",
       "  </tbody>\n",
       "</table>\n",
       "<p>1848 rows × 7 columns</p>\n",
       "</div>"
      ],
      "text/plain": [
       "                       Agency                                Neighborhood  \\\n",
       "0           Buy Rent Shelters                 General Mathenge, Westlands   \n",
       "1         Kenya Classic Homes                   Kilimani, Dagoretti North   \n",
       "2      Absolute Estate Agents     Hatheru Rd,, Lavington, Dagoretti North   \n",
       "3       A1 Properties Limited                   Kilimani, Dagoretti North   \n",
       "4         Pmc Estates Limited                       Imara Daima, Embakasi   \n",
       "...                       ...                                         ...   \n",
       "1843       Avic International  Laikipia Road, Kileleshwa, Dagoretti North   \n",
       "1844            Dmus Realtors       Peponi road, Spring Valley, Westlands   \n",
       "1845    A1 Properties Limited                 Kileleshwa, Dagoretti North   \n",
       "1846  Geoscape Global Limited                   Westlands Area, Westlands   \n",
       "1847      Pmc Estates Limited                   Kilimani, Dagoretti North   \n",
       "\n",
       "            Price                                               link  sq_mtrs  \\\n",
       "0     KSh 155,000  /listings/4-bedroom-apartment-for-rent-general...      4.0   \n",
       "1     KSh 100,000  /listings/3-bedroom-apartment-for-rent-kiliman...    300.0   \n",
       "2      KSh 75,000  /listings/3-bedroom-apartment-for-rent-lavingt...      3.0   \n",
       "3     KSh 135,000  /listings/3-bedroom-apartment-for-rent-kiliman...    227.0   \n",
       "4      KSh 50,000  /listings/3-bedroom-apartment-for-rent-imara-d...      3.0   \n",
       "...           ...                                                ...      ...   \n",
       "1843  KSh 180,000  /listings/3-bedroom-apartment-for-rent-kileles...      3.0   \n",
       "1844  KSh 180,000  /listings/2-bedroom-apartment-for-rent-spring-...      2.0   \n",
       "1845  KSh 180,000  /listings/furnished-4-bedroom-apartment-for-re...      4.0   \n",
       "1846  KSh 180,000  /listings/4-bedroom-apartment-for-rent-westlan...      4.0   \n",
       "1847  KSh 180,000  /listings/2-bedroom-apartment-for-rent-kiliman...      2.0   \n",
       "\n",
       "      Bedrooms  Bathrooms  \n",
       "0          4.0        4.0  \n",
       "1          3.0        4.0  \n",
       "2          3.0        5.0  \n",
       "3          3.0        4.0  \n",
       "4          3.0        NaN  \n",
       "...        ...        ...  \n",
       "1843       3.0        NaN  \n",
       "1844       2.0        2.0  \n",
       "1845       4.0        5.0  \n",
       "1846       4.0        4.0  \n",
       "1847       2.0        NaN  \n",
       "\n",
       "[1848 rows x 7 columns]"
      ]
     },
     "execution_count": 2,
     "metadata": {},
     "output_type": "execute_result"
    }
   ],
   "source": [
    "data = pd.read_csv(\"../input/rental-apartments-in-kenya/rent_apts.csv\")\n",
    "data"
   ]
  },
  {
   "cell_type": "code",
   "execution_count": 3,
   "id": "dc873070",
   "metadata": {
    "execution": {
     "iopub.execute_input": "2022-11-24T02:00:17.117144Z",
     "iopub.status.busy": "2022-11-24T02:00:17.116710Z",
     "iopub.status.idle": "2022-11-24T02:00:17.157920Z",
     "shell.execute_reply": "2022-11-24T02:00:17.156427Z"
    },
    "papermill": {
     "duration": 0.053247,
     "end_time": "2022-11-24T02:00:17.160959",
     "exception": false,
     "start_time": "2022-11-24T02:00:17.107712",
     "status": "completed"
    },
    "tags": []
   },
   "outputs": [
    {
     "name": "stdout",
     "output_type": "stream",
     "text": [
      "<class 'pandas.core.frame.DataFrame'>\n",
      "RangeIndex: 1848 entries, 0 to 1847\n",
      "Data columns (total 7 columns):\n",
      " #   Column        Non-Null Count  Dtype  \n",
      "---  ------        --------------  -----  \n",
      " 0   Agency        1848 non-null   object \n",
      " 1   Neighborhood  1848 non-null   object \n",
      " 2   Price         1848 non-null   object \n",
      " 3   link          1848 non-null   object \n",
      " 4   sq_mtrs       1846 non-null   float64\n",
      " 5   Bedrooms      1845 non-null   float64\n",
      " 6   Bathrooms     1557 non-null   float64\n",
      "dtypes: float64(3), object(4)\n",
      "memory usage: 101.2+ KB\n"
     ]
    }
   ],
   "source": [
    "data.info()"
   ]
  },
  {
   "cell_type": "code",
   "execution_count": 4,
   "id": "6a75a700",
   "metadata": {
    "execution": {
     "iopub.execute_input": "2022-11-24T02:00:17.177117Z",
     "iopub.status.busy": "2022-11-24T02:00:17.176651Z",
     "iopub.status.idle": "2022-11-24T02:00:17.204090Z",
     "shell.execute_reply": "2022-11-24T02:00:17.202682Z"
    },
    "papermill": {
     "duration": 0.038986,
     "end_time": "2022-11-24T02:00:17.207184",
     "exception": false,
     "start_time": "2022-11-24T02:00:17.168198",
     "status": "completed"
    },
    "tags": []
   },
   "outputs": [
    {
     "data": {
      "text/html": [
       "<div>\n",
       "<style scoped>\n",
       "    .dataframe tbody tr th:only-of-type {\n",
       "        vertical-align: middle;\n",
       "    }\n",
       "\n",
       "    .dataframe tbody tr th {\n",
       "        vertical-align: top;\n",
       "    }\n",
       "\n",
       "    .dataframe thead th {\n",
       "        text-align: right;\n",
       "    }\n",
       "</style>\n",
       "<table border=\"1\" class=\"dataframe\">\n",
       "  <thead>\n",
       "    <tr style=\"text-align: right;\">\n",
       "      <th></th>\n",
       "      <th>sq_mtrs</th>\n",
       "      <th>Bedrooms</th>\n",
       "      <th>Bathrooms</th>\n",
       "    </tr>\n",
       "  </thead>\n",
       "  <tbody>\n",
       "    <tr>\n",
       "      <th>count</th>\n",
       "      <td>1846.000000</td>\n",
       "      <td>1845.000000</td>\n",
       "      <td>1557.000000</td>\n",
       "    </tr>\n",
       "    <tr>\n",
       "      <th>mean</th>\n",
       "      <td>327.226977</td>\n",
       "      <td>2.577778</td>\n",
       "      <td>2.595376</td>\n",
       "    </tr>\n",
       "    <tr>\n",
       "      <th>std</th>\n",
       "      <td>2048.784581</td>\n",
       "      <td>0.819399</td>\n",
       "      <td>1.000349</td>\n",
       "    </tr>\n",
       "    <tr>\n",
       "      <th>min</th>\n",
       "      <td>0.000000</td>\n",
       "      <td>0.000000</td>\n",
       "      <td>1.000000</td>\n",
       "    </tr>\n",
       "    <tr>\n",
       "      <th>25%</th>\n",
       "      <td>2.000000</td>\n",
       "      <td>2.000000</td>\n",
       "      <td>2.000000</td>\n",
       "    </tr>\n",
       "    <tr>\n",
       "      <th>50%</th>\n",
       "      <td>3.000000</td>\n",
       "      <td>3.000000</td>\n",
       "      <td>2.000000</td>\n",
       "    </tr>\n",
       "    <tr>\n",
       "      <th>75%</th>\n",
       "      <td>4.000000</td>\n",
       "      <td>3.000000</td>\n",
       "      <td>3.000000</td>\n",
       "    </tr>\n",
       "    <tr>\n",
       "      <th>max</th>\n",
       "      <td>40470.000000</td>\n",
       "      <td>6.000000</td>\n",
       "      <td>6.000000</td>\n",
       "    </tr>\n",
       "  </tbody>\n",
       "</table>\n",
       "</div>"
      ],
      "text/plain": [
       "            sq_mtrs     Bedrooms    Bathrooms\n",
       "count   1846.000000  1845.000000  1557.000000\n",
       "mean     327.226977     2.577778     2.595376\n",
       "std     2048.784581     0.819399     1.000349\n",
       "min        0.000000     0.000000     1.000000\n",
       "25%        2.000000     2.000000     2.000000\n",
       "50%        3.000000     3.000000     2.000000\n",
       "75%        4.000000     3.000000     3.000000\n",
       "max    40470.000000     6.000000     6.000000"
      ]
     },
     "execution_count": 4,
     "metadata": {},
     "output_type": "execute_result"
    }
   ],
   "source": [
    "data.describe()\n"
   ]
  },
  {
   "cell_type": "markdown",
   "id": "47383e4d",
   "metadata": {
    "papermill": {
     "duration": 0.00731,
     "end_time": "2022-11-24T02:00:17.221729",
     "exception": false,
     "start_time": "2022-11-24T02:00:17.214419",
     "status": "completed"
    },
    "tags": []
   },
   "source": [
    "CLEAN DATA(REMOVE DUPLICATES)\n",
    "\n",
    "1. Drop \"sq_mtrs\", \"link\" columns and all rows with zero/NaN values\n",
    "2. Convert Price\" to ints\n",
    "3. Convert \"Neighborhood\" column to ints"
   ]
  },
  {
   "cell_type": "code",
   "execution_count": 5,
   "id": "7a69abc8",
   "metadata": {
    "execution": {
     "iopub.execute_input": "2022-11-24T02:00:17.239193Z",
     "iopub.status.busy": "2022-11-24T02:00:17.238707Z",
     "iopub.status.idle": "2022-11-24T02:00:17.263753Z",
     "shell.execute_reply": "2022-11-24T02:00:17.262401Z"
    },
    "papermill": {
     "duration": 0.037386,
     "end_time": "2022-11-24T02:00:17.266784",
     "exception": false,
     "start_time": "2022-11-24T02:00:17.229398",
     "status": "completed"
    },
    "tags": []
   },
   "outputs": [
    {
     "data": {
      "text/html": [
       "<div>\n",
       "<style scoped>\n",
       "    .dataframe tbody tr th:only-of-type {\n",
       "        vertical-align: middle;\n",
       "    }\n",
       "\n",
       "    .dataframe tbody tr th {\n",
       "        vertical-align: top;\n",
       "    }\n",
       "\n",
       "    .dataframe thead th {\n",
       "        text-align: right;\n",
       "    }\n",
       "</style>\n",
       "<table border=\"1\" class=\"dataframe\">\n",
       "  <thead>\n",
       "    <tr style=\"text-align: right;\">\n",
       "      <th></th>\n",
       "      <th>Agency</th>\n",
       "      <th>Neighborhood</th>\n",
       "      <th>Price</th>\n",
       "      <th>link</th>\n",
       "      <th>sq_mtrs</th>\n",
       "      <th>Bedrooms</th>\n",
       "      <th>Bathrooms</th>\n",
       "    </tr>\n",
       "  </thead>\n",
       "  <tbody>\n",
       "    <tr>\n",
       "      <th>0</th>\n",
       "      <td>Buy Rent Shelters</td>\n",
       "      <td>General Mathenge, Westlands</td>\n",
       "      <td>KSh 155,000</td>\n",
       "      <td>/listings/4-bedroom-apartment-for-rent-general...</td>\n",
       "      <td>4.0</td>\n",
       "      <td>4.0</td>\n",
       "      <td>4.0</td>\n",
       "    </tr>\n",
       "    <tr>\n",
       "      <th>1</th>\n",
       "      <td>Kenya Classic Homes</td>\n",
       "      <td>Kilimani, Dagoretti North</td>\n",
       "      <td>KSh 100,000</td>\n",
       "      <td>/listings/3-bedroom-apartment-for-rent-kiliman...</td>\n",
       "      <td>300.0</td>\n",
       "      <td>3.0</td>\n",
       "      <td>4.0</td>\n",
       "    </tr>\n",
       "    <tr>\n",
       "      <th>2</th>\n",
       "      <td>Absolute Estate Agents</td>\n",
       "      <td>Hatheru Rd,, Lavington, Dagoretti North</td>\n",
       "      <td>KSh 75,000</td>\n",
       "      <td>/listings/3-bedroom-apartment-for-rent-lavingt...</td>\n",
       "      <td>3.0</td>\n",
       "      <td>3.0</td>\n",
       "      <td>5.0</td>\n",
       "    </tr>\n",
       "    <tr>\n",
       "      <th>3</th>\n",
       "      <td>A1 Properties Limited</td>\n",
       "      <td>Kilimani, Dagoretti North</td>\n",
       "      <td>KSh 135,000</td>\n",
       "      <td>/listings/3-bedroom-apartment-for-rent-kiliman...</td>\n",
       "      <td>227.0</td>\n",
       "      <td>3.0</td>\n",
       "      <td>4.0</td>\n",
       "    </tr>\n",
       "    <tr>\n",
       "      <th>6</th>\n",
       "      <td>Mambo Properties Enterprise</td>\n",
       "      <td>Off Denis Pritt, Kilimani, Dagoretti North</td>\n",
       "      <td>KSh 100,000</td>\n",
       "      <td>/listings/2-bedroom-apartment-for-rent-kiliman...</td>\n",
       "      <td>14.0</td>\n",
       "      <td>2.0</td>\n",
       "      <td>3.0</td>\n",
       "    </tr>\n",
       "    <tr>\n",
       "      <th>...</th>\n",
       "      <td>...</td>\n",
       "      <td>...</td>\n",
       "      <td>...</td>\n",
       "      <td>...</td>\n",
       "      <td>...</td>\n",
       "      <td>...</td>\n",
       "      <td>...</td>\n",
       "    </tr>\n",
       "    <tr>\n",
       "      <th>1841</th>\n",
       "      <td>Origin Homes</td>\n",
       "      <td>Brookside Drie, Karura, Westlands</td>\n",
       "      <td>KSh 180,000</td>\n",
       "      <td>/listings/furnished-3-bedroom-apartment-for-re...</td>\n",
       "      <td>3.0</td>\n",
       "      <td>3.0</td>\n",
       "      <td>3.0</td>\n",
       "    </tr>\n",
       "    <tr>\n",
       "      <th>1842</th>\n",
       "      <td>Origin Homes</td>\n",
       "      <td>Brookside, Westlands</td>\n",
       "      <td>KSh 180,000</td>\n",
       "      <td>/listings/3-bedroom-apartment-for-rent-brooksi...</td>\n",
       "      <td>3.0</td>\n",
       "      <td>3.0</td>\n",
       "      <td>4.0</td>\n",
       "    </tr>\n",
       "    <tr>\n",
       "      <th>1844</th>\n",
       "      <td>Dmus Realtors</td>\n",
       "      <td>Peponi road, Spring Valley, Westlands</td>\n",
       "      <td>KSh 180,000</td>\n",
       "      <td>/listings/2-bedroom-apartment-for-rent-spring-...</td>\n",
       "      <td>2.0</td>\n",
       "      <td>2.0</td>\n",
       "      <td>2.0</td>\n",
       "    </tr>\n",
       "    <tr>\n",
       "      <th>1845</th>\n",
       "      <td>A1 Properties Limited</td>\n",
       "      <td>Kileleshwa, Dagoretti North</td>\n",
       "      <td>KSh 180,000</td>\n",
       "      <td>/listings/furnished-4-bedroom-apartment-for-re...</td>\n",
       "      <td>4.0</td>\n",
       "      <td>4.0</td>\n",
       "      <td>5.0</td>\n",
       "    </tr>\n",
       "    <tr>\n",
       "      <th>1846</th>\n",
       "      <td>Geoscape Global Limited</td>\n",
       "      <td>Westlands Area, Westlands</td>\n",
       "      <td>KSh 180,000</td>\n",
       "      <td>/listings/4-bedroom-apartment-for-rent-westlan...</td>\n",
       "      <td>4.0</td>\n",
       "      <td>4.0</td>\n",
       "      <td>4.0</td>\n",
       "    </tr>\n",
       "  </tbody>\n",
       "</table>\n",
       "<p>1557 rows × 7 columns</p>\n",
       "</div>"
      ],
      "text/plain": [
       "                           Agency                                Neighborhood  \\\n",
       "0               Buy Rent Shelters                 General Mathenge, Westlands   \n",
       "1             Kenya Classic Homes                   Kilimani, Dagoretti North   \n",
       "2          Absolute Estate Agents     Hatheru Rd,, Lavington, Dagoretti North   \n",
       "3           A1 Properties Limited                   Kilimani, Dagoretti North   \n",
       "6     Mambo Properties Enterprise  Off Denis Pritt, Kilimani, Dagoretti North   \n",
       "...                           ...                                         ...   \n",
       "1841                 Origin Homes           Brookside Drie, Karura, Westlands   \n",
       "1842                 Origin Homes                        Brookside, Westlands   \n",
       "1844                Dmus Realtors       Peponi road, Spring Valley, Westlands   \n",
       "1845        A1 Properties Limited                 Kileleshwa, Dagoretti North   \n",
       "1846      Geoscape Global Limited                   Westlands Area, Westlands   \n",
       "\n",
       "            Price                                               link  sq_mtrs  \\\n",
       "0     KSh 155,000  /listings/4-bedroom-apartment-for-rent-general...      4.0   \n",
       "1     KSh 100,000  /listings/3-bedroom-apartment-for-rent-kiliman...    300.0   \n",
       "2      KSh 75,000  /listings/3-bedroom-apartment-for-rent-lavingt...      3.0   \n",
       "3     KSh 135,000  /listings/3-bedroom-apartment-for-rent-kiliman...    227.0   \n",
       "6     KSh 100,000  /listings/2-bedroom-apartment-for-rent-kiliman...     14.0   \n",
       "...           ...                                                ...      ...   \n",
       "1841  KSh 180,000  /listings/furnished-3-bedroom-apartment-for-re...      3.0   \n",
       "1842  KSh 180,000  /listings/3-bedroom-apartment-for-rent-brooksi...      3.0   \n",
       "1844  KSh 180,000  /listings/2-bedroom-apartment-for-rent-spring-...      2.0   \n",
       "1845  KSh 180,000  /listings/furnished-4-bedroom-apartment-for-re...      4.0   \n",
       "1846  KSh 180,000  /listings/4-bedroom-apartment-for-rent-westlan...      4.0   \n",
       "\n",
       "      Bedrooms  Bathrooms  \n",
       "0          4.0        4.0  \n",
       "1          3.0        4.0  \n",
       "2          3.0        5.0  \n",
       "3          3.0        4.0  \n",
       "6          2.0        3.0  \n",
       "...        ...        ...  \n",
       "1841       3.0        3.0  \n",
       "1842       3.0        4.0  \n",
       "1844       2.0        2.0  \n",
       "1845       4.0        5.0  \n",
       "1846       4.0        4.0  \n",
       "\n",
       "[1557 rows x 7 columns]"
      ]
     },
     "execution_count": 5,
     "metadata": {},
     "output_type": "execute_result"
    }
   ],
   "source": [
    "\n",
    " \n",
    "data = data.dropna()\n",
    "data"
   ]
  },
  {
   "cell_type": "code",
   "execution_count": 6,
   "id": "2d9f2ed3",
   "metadata": {
    "execution": {
     "iopub.execute_input": "2022-11-24T02:00:17.286826Z",
     "iopub.status.busy": "2022-11-24T02:00:17.286376Z",
     "iopub.status.idle": "2022-11-24T02:00:17.309629Z",
     "shell.execute_reply": "2022-11-24T02:00:17.308660Z"
    },
    "papermill": {
     "duration": 0.039242,
     "end_time": "2022-11-24T02:00:17.313814",
     "exception": false,
     "start_time": "2022-11-24T02:00:17.274572",
     "status": "completed"
    },
    "tags": []
   },
   "outputs": [
    {
     "name": "stdout",
     "output_type": "stream",
     "text": [
      "<class 'pandas.core.frame.DataFrame'>\n",
      "Int64Index: 1557 entries, 0 to 1846\n",
      "Data columns (total 7 columns):\n",
      " #   Column        Non-Null Count  Dtype  \n",
      "---  ------        --------------  -----  \n",
      " 0   Agency        1557 non-null   object \n",
      " 1   Neighborhood  1557 non-null   object \n",
      " 2   Price         1557 non-null   int64  \n",
      " 3   link          1557 non-null   object \n",
      " 4   sq_mtrs       1557 non-null   float64\n",
      " 5   Bedrooms      1557 non-null   float64\n",
      " 6   Bathrooms     1557 non-null   float64\n",
      "dtypes: float64(3), int64(1), object(3)\n",
      "memory usage: 97.3+ KB\n"
     ]
    },
    {
     "name": "stderr",
     "output_type": "stream",
     "text": [
      "/opt/conda/lib/python3.7/site-packages/ipykernel_launcher.py:2: SettingWithCopyWarning: \n",
      "A value is trying to be set on a copy of a slice from a DataFrame.\n",
      "Try using .loc[row_indexer,col_indexer] = value instead\n",
      "\n",
      "See the caveats in the documentation: https://pandas.pydata.org/pandas-docs/stable/user_guide/indexing.html#returning-a-view-versus-a-copy\n",
      "  \n",
      "/opt/conda/lib/python3.7/site-packages/ipykernel_launcher.py:4: SettingWithCopyWarning: \n",
      "A value is trying to be set on a copy of a slice from a DataFrame.\n",
      "Try using .loc[row_indexer,col_indexer] = value instead\n",
      "\n",
      "See the caveats in the documentation: https://pandas.pydata.org/pandas-docs/stable/user_guide/indexing.html#returning-a-view-versus-a-copy\n",
      "  after removing the cwd from sys.path.\n",
      "/opt/conda/lib/python3.7/site-packages/ipykernel_launcher.py:5: SettingWithCopyWarning: \n",
      "A value is trying to be set on a copy of a slice from a DataFrame.\n",
      "Try using .loc[row_indexer,col_indexer] = value instead\n",
      "\n",
      "See the caveats in the documentation: https://pandas.pydata.org/pandas-docs/stable/user_guide/indexing.html#returning-a-view-versus-a-copy\n",
      "  \"\"\"\n"
     ]
    }
   ],
   "source": [
    "# Convert Price\" to ints\n",
    "data[\"Price\"] = data[\"Price\"].str.replace(\"KSh \", \"\")\n",
    "data\n",
    "data[\"Price\"] = data[\"Price\"].str.replace(\",\", \"\")\n",
    "data[\"Price\"] = pd.to_numeric(data[\"Price\"])\n",
    "data.info()"
   ]
  },
  {
   "cell_type": "markdown",
   "id": "943c1e15",
   "metadata": {
    "papermill": {
     "duration": 0.007908,
     "end_time": "2022-11-24T02:00:17.330236",
     "exception": false,
     "start_time": "2022-11-24T02:00:17.322328",
     "status": "completed"
    },
    "tags": []
   },
   "source": [
    "#print the first 5 rows"
   ]
  },
  {
   "cell_type": "code",
   "execution_count": 7,
   "id": "1b2e6d44",
   "metadata": {
    "execution": {
     "iopub.execute_input": "2022-11-24T02:00:17.351143Z",
     "iopub.status.busy": "2022-11-24T02:00:17.350276Z",
     "iopub.status.idle": "2022-11-24T02:00:17.365793Z",
     "shell.execute_reply": "2022-11-24T02:00:17.364742Z"
    },
    "papermill": {
     "duration": 0.029966,
     "end_time": "2022-11-24T02:00:17.369538",
     "exception": false,
     "start_time": "2022-11-24T02:00:17.339572",
     "status": "completed"
    },
    "tags": []
   },
   "outputs": [
    {
     "data": {
      "text/html": [
       "<div>\n",
       "<style scoped>\n",
       "    .dataframe tbody tr th:only-of-type {\n",
       "        vertical-align: middle;\n",
       "    }\n",
       "\n",
       "    .dataframe tbody tr th {\n",
       "        vertical-align: top;\n",
       "    }\n",
       "\n",
       "    .dataframe thead th {\n",
       "        text-align: right;\n",
       "    }\n",
       "</style>\n",
       "<table border=\"1\" class=\"dataframe\">\n",
       "  <thead>\n",
       "    <tr style=\"text-align: right;\">\n",
       "      <th></th>\n",
       "      <th>Agency</th>\n",
       "      <th>Neighborhood</th>\n",
       "      <th>Price</th>\n",
       "      <th>link</th>\n",
       "      <th>sq_mtrs</th>\n",
       "      <th>Bedrooms</th>\n",
       "      <th>Bathrooms</th>\n",
       "    </tr>\n",
       "  </thead>\n",
       "  <tbody>\n",
       "    <tr>\n",
       "      <th>0</th>\n",
       "      <td>Buy Rent Shelters</td>\n",
       "      <td>General Mathenge, Westlands</td>\n",
       "      <td>155000</td>\n",
       "      <td>/listings/4-bedroom-apartment-for-rent-general...</td>\n",
       "      <td>4.0</td>\n",
       "      <td>4.0</td>\n",
       "      <td>4.0</td>\n",
       "    </tr>\n",
       "    <tr>\n",
       "      <th>1</th>\n",
       "      <td>Kenya Classic Homes</td>\n",
       "      <td>Kilimani, Dagoretti North</td>\n",
       "      <td>100000</td>\n",
       "      <td>/listings/3-bedroom-apartment-for-rent-kiliman...</td>\n",
       "      <td>300.0</td>\n",
       "      <td>3.0</td>\n",
       "      <td>4.0</td>\n",
       "    </tr>\n",
       "    <tr>\n",
       "      <th>2</th>\n",
       "      <td>Absolute Estate Agents</td>\n",
       "      <td>Hatheru Rd,, Lavington, Dagoretti North</td>\n",
       "      <td>75000</td>\n",
       "      <td>/listings/3-bedroom-apartment-for-rent-lavingt...</td>\n",
       "      <td>3.0</td>\n",
       "      <td>3.0</td>\n",
       "      <td>5.0</td>\n",
       "    </tr>\n",
       "    <tr>\n",
       "      <th>3</th>\n",
       "      <td>A1 Properties Limited</td>\n",
       "      <td>Kilimani, Dagoretti North</td>\n",
       "      <td>135000</td>\n",
       "      <td>/listings/3-bedroom-apartment-for-rent-kiliman...</td>\n",
       "      <td>227.0</td>\n",
       "      <td>3.0</td>\n",
       "      <td>4.0</td>\n",
       "    </tr>\n",
       "    <tr>\n",
       "      <th>6</th>\n",
       "      <td>Mambo Properties Enterprise</td>\n",
       "      <td>Off Denis Pritt, Kilimani, Dagoretti North</td>\n",
       "      <td>100000</td>\n",
       "      <td>/listings/2-bedroom-apartment-for-rent-kiliman...</td>\n",
       "      <td>14.0</td>\n",
       "      <td>2.0</td>\n",
       "      <td>3.0</td>\n",
       "    </tr>\n",
       "  </tbody>\n",
       "</table>\n",
       "</div>"
      ],
      "text/plain": [
       "                        Agency                                Neighborhood  \\\n",
       "0            Buy Rent Shelters                 General Mathenge, Westlands   \n",
       "1          Kenya Classic Homes                   Kilimani, Dagoretti North   \n",
       "2       Absolute Estate Agents     Hatheru Rd,, Lavington, Dagoretti North   \n",
       "3        A1 Properties Limited                   Kilimani, Dagoretti North   \n",
       "6  Mambo Properties Enterprise  Off Denis Pritt, Kilimani, Dagoretti North   \n",
       "\n",
       "    Price                                               link  sq_mtrs  \\\n",
       "0  155000  /listings/4-bedroom-apartment-for-rent-general...      4.0   \n",
       "1  100000  /listings/3-bedroom-apartment-for-rent-kiliman...    300.0   \n",
       "2   75000  /listings/3-bedroom-apartment-for-rent-lavingt...      3.0   \n",
       "3  135000  /listings/3-bedroom-apartment-for-rent-kiliman...    227.0   \n",
       "6  100000  /listings/2-bedroom-apartment-for-rent-kiliman...     14.0   \n",
       "\n",
       "   Bedrooms  Bathrooms  \n",
       "0       4.0        4.0  \n",
       "1       3.0        4.0  \n",
       "2       3.0        5.0  \n",
       "3       3.0        4.0  \n",
       "6       2.0        3.0  "
      ]
     },
     "execution_count": 7,
     "metadata": {},
     "output_type": "execute_result"
    }
   ],
   "source": [
    "data.head()"
   ]
  },
  {
   "cell_type": "markdown",
   "id": "984780a1",
   "metadata": {
    "papermill": {
     "duration": 0.00787,
     "end_time": "2022-11-24T02:00:17.386042",
     "exception": false,
     "start_time": "2022-11-24T02:00:17.378172",
     "status": "completed"
    },
    "tags": []
   },
   "source": [
    "CORRELATION BETWEEN VARIOUS FEATURES IN THE DATASET\n",
    "1. Positive correlation\n",
    "2. Negative correlation"
   ]
  },
  {
   "cell_type": "code",
   "execution_count": 8,
   "id": "78e00a71",
   "metadata": {
    "execution": {
     "iopub.execute_input": "2022-11-24T02:00:17.404838Z",
     "iopub.status.busy": "2022-11-24T02:00:17.404114Z",
     "iopub.status.idle": "2022-11-24T02:00:17.419521Z",
     "shell.execute_reply": "2022-11-24T02:00:17.418161Z"
    },
    "papermill": {
     "duration": 0.028326,
     "end_time": "2022-11-24T02:00:17.422489",
     "exception": false,
     "start_time": "2022-11-24T02:00:17.394163",
     "status": "completed"
    },
    "tags": []
   },
   "outputs": [
    {
     "data": {
      "text/html": [
       "<div>\n",
       "<style scoped>\n",
       "    .dataframe tbody tr th:only-of-type {\n",
       "        vertical-align: middle;\n",
       "    }\n",
       "\n",
       "    .dataframe tbody tr th {\n",
       "        vertical-align: top;\n",
       "    }\n",
       "\n",
       "    .dataframe thead th {\n",
       "        text-align: right;\n",
       "    }\n",
       "</style>\n",
       "<table border=\"1\" class=\"dataframe\">\n",
       "  <thead>\n",
       "    <tr style=\"text-align: right;\">\n",
       "      <th></th>\n",
       "      <th>Price</th>\n",
       "      <th>sq_mtrs</th>\n",
       "      <th>Bedrooms</th>\n",
       "      <th>Bathrooms</th>\n",
       "    </tr>\n",
       "  </thead>\n",
       "  <tbody>\n",
       "    <tr>\n",
       "      <th>Price</th>\n",
       "      <td>1.000000</td>\n",
       "      <td>-0.034092</td>\n",
       "      <td>0.352336</td>\n",
       "      <td>0.440472</td>\n",
       "    </tr>\n",
       "    <tr>\n",
       "      <th>sq_mtrs</th>\n",
       "      <td>-0.034092</td>\n",
       "      <td>1.000000</td>\n",
       "      <td>-0.013826</td>\n",
       "      <td>0.003311</td>\n",
       "    </tr>\n",
       "    <tr>\n",
       "      <th>Bedrooms</th>\n",
       "      <td>0.352336</td>\n",
       "      <td>-0.013826</td>\n",
       "      <td>1.000000</td>\n",
       "      <td>0.731506</td>\n",
       "    </tr>\n",
       "    <tr>\n",
       "      <th>Bathrooms</th>\n",
       "      <td>0.440472</td>\n",
       "      <td>0.003311</td>\n",
       "      <td>0.731506</td>\n",
       "      <td>1.000000</td>\n",
       "    </tr>\n",
       "  </tbody>\n",
       "</table>\n",
       "</div>"
      ],
      "text/plain": [
       "              Price   sq_mtrs  Bedrooms  Bathrooms\n",
       "Price      1.000000 -0.034092  0.352336   0.440472\n",
       "sq_mtrs   -0.034092  1.000000 -0.013826   0.003311\n",
       "Bedrooms   0.352336 -0.013826  1.000000   0.731506\n",
       "Bathrooms  0.440472  0.003311  0.731506   1.000000"
      ]
     },
     "execution_count": 8,
     "metadata": {},
     "output_type": "execute_result"
    }
   ],
   "source": [
    "data.corr()"
   ]
  },
  {
   "cell_type": "code",
   "execution_count": 9,
   "id": "4d3c94d4",
   "metadata": {
    "execution": {
     "iopub.execute_input": "2022-11-24T02:00:17.443571Z",
     "iopub.status.busy": "2022-11-24T02:00:17.443144Z",
     "iopub.status.idle": "2022-11-24T02:00:17.828631Z",
     "shell.execute_reply": "2022-11-24T02:00:17.827671Z"
    },
    "papermill": {
     "duration": 0.399905,
     "end_time": "2022-11-24T02:00:17.830806",
     "exception": false,
     "start_time": "2022-11-24T02:00:17.430901",
     "status": "completed"
    },
    "tags": []
   },
   "outputs": [
    {
     "data": {
      "text/plain": [
       "<AxesSubplot:>"
      ]
     },
     "execution_count": 9,
     "metadata": {},
     "output_type": "execute_result"
    },
    {
     "data": {
      "image/png": "[encoded data removed]",
      "text/plain": [
       "<Figure size 432x288 with 2 Axes>"
      ]
     },
     "metadata": {
      "needs_background": "light"
     },
     "output_type": "display_data"
    }
   ],
   "source": [
    "import seaborn as sns\n",
    "import matplotlib.pyplot as plt\n",
    "sns.heatmap(data.isnull(),yticklabels=False,cbar=True,cmap='Blues')"
   ]
  },
  {
   "cell_type": "markdown",
   "id": "2140a592",
   "metadata": {
    "papermill": {
     "duration": 0.008347,
     "end_time": "2022-11-24T02:00:17.848313",
     "exception": false,
     "start_time": "2022-11-24T02:00:17.839966",
     "status": "completed"
    },
    "tags": []
   },
   "source": [
    "SPLITTING THE DATA AND TARGET"
   ]
  },
  {
   "cell_type": "code",
   "execution_count": 10,
   "id": "720c3841",
   "metadata": {
    "execution": {
     "iopub.execute_input": "2022-11-24T02:00:17.870148Z",
     "iopub.status.busy": "2022-11-24T02:00:17.869070Z",
     "iopub.status.idle": "2022-11-24T02:00:17.876743Z",
     "shell.execute_reply": "2022-11-24T02:00:17.875354Z"
    },
    "papermill": {
     "duration": 0.021352,
     "end_time": "2022-11-24T02:00:17.879271",
     "exception": false,
     "start_time": "2022-11-24T02:00:17.857919",
     "status": "completed"
    },
    "tags": []
   },
   "outputs": [],
   "source": [
    "X = data[[\"Bedrooms\", \"Bathrooms\"]]\n",
    "Y=data['Price']"
   ]
  },
  {
   "cell_type": "code",
   "execution_count": 11,
   "id": "b9f292b9",
   "metadata": {
    "execution": {
     "iopub.execute_input": "2022-11-24T02:00:17.899595Z",
     "iopub.status.busy": "2022-11-24T02:00:17.898809Z",
     "iopub.status.idle": "2022-11-24T02:00:17.910525Z",
     "shell.execute_reply": "2022-11-24T02:00:17.909234Z"
    },
    "papermill": {
     "duration": 0.024786,
     "end_time": "2022-11-24T02:00:17.913042",
     "exception": false,
     "start_time": "2022-11-24T02:00:17.888256",
     "status": "completed"
    },
    "tags": []
   },
   "outputs": [
    {
     "name": "stdout",
     "output_type": "stream",
     "text": [
      "      Bedrooms  Bathrooms\n",
      "0          4.0        4.0\n",
      "1          3.0        4.0\n",
      "2          3.0        5.0\n",
      "3          3.0        4.0\n",
      "6          2.0        3.0\n",
      "...        ...        ...\n",
      "1841       3.0        3.0\n",
      "1842       3.0        4.0\n",
      "1844       2.0        2.0\n",
      "1845       4.0        5.0\n",
      "1846       4.0        4.0\n",
      "\n",
      "[1557 rows x 2 columns]\n",
      "0       155000\n",
      "1       100000\n",
      "2        75000\n",
      "3       135000\n",
      "6       100000\n",
      "         ...  \n",
      "1841    180000\n",
      "1842    180000\n",
      "1844    180000\n",
      "1845    180000\n",
      "1846    180000\n",
      "Name: Price, Length: 1557, dtype: int64\n"
     ]
    }
   ],
   "source": [
    "print(X)\n",
    "print(Y)"
   ]
  },
  {
   "cell_type": "markdown",
   "id": "5fb9c1cd",
   "metadata": {
    "papermill": {
     "duration": 0.008297,
     "end_time": "2022-11-24T02:00:17.930103",
     "exception": false,
     "start_time": "2022-11-24T02:00:17.921806",
     "status": "completed"
    },
    "tags": []
   },
   "source": [
    "**SPLITTING THE DATA TO TRAINING AND TEST DATA**"
   ]
  },
  {
   "cell_type": "code",
   "execution_count": 12,
   "id": "577a3703",
   "metadata": {
    "execution": {
     "iopub.execute_input": "2022-11-24T02:00:17.949203Z",
     "iopub.status.busy": "2022-11-24T02:00:17.948517Z",
     "iopub.status.idle": "2022-11-24T02:00:17.957315Z",
     "shell.execute_reply": "2022-11-24T02:00:17.955827Z"
    },
    "papermill": {
     "duration": 0.021543,
     "end_time": "2022-11-24T02:00:17.960225",
     "exception": false,
     "start_time": "2022-11-24T02:00:17.938682",
     "status": "completed"
    },
    "tags": []
   },
   "outputs": [],
   "source": [
    "X_train, X_test, Y_train, Y_test = train_test_split(X, Y, test_size = 0.2, random_state = 2)"
   ]
  },
  {
   "cell_type": "code",
   "execution_count": 13,
   "id": "9ec84e8f",
   "metadata": {
    "execution": {
     "iopub.execute_input": "2022-11-24T02:00:17.980793Z",
     "iopub.status.busy": "2022-11-24T02:00:17.980342Z",
     "iopub.status.idle": "2022-11-24T02:00:17.987524Z",
     "shell.execute_reply": "2022-11-24T02:00:17.985969Z"
    },
    "papermill": {
     "duration": 0.021224,
     "end_time": "2022-11-24T02:00:17.990259",
     "exception": false,
     "start_time": "2022-11-24T02:00:17.969035",
     "status": "completed"
    },
    "tags": []
   },
   "outputs": [
    {
     "name": "stdout",
     "output_type": "stream",
     "text": [
      "(1557, 2) (1245, 2) (312, 2)\n"
     ]
    }
   ],
   "source": [
    "print(X.shape,X_train.shape, X_test.shape)"
   ]
  },
  {
   "cell_type": "markdown",
   "id": "315327b8",
   "metadata": {
    "papermill": {
     "duration": 0.010689,
     "end_time": "2022-11-24T02:00:18.009567",
     "exception": false,
     "start_time": "2022-11-24T02:00:17.998878",
     "status": "completed"
    },
    "tags": []
   },
   "source": [
    " **MODEL TRAINING**"
   ]
  },
  {
   "cell_type": "markdown",
   "id": "0f0427ef",
   "metadata": {
    "papermill": {
     "duration": 0.010105,
     "end_time": "2022-11-24T02:00:18.029273",
     "exception": false,
     "start_time": "2022-11-24T02:00:18.019168",
     "status": "completed"
    },
    "tags": []
   },
   "source": [
    "XGBRegressor"
   ]
  },
  {
   "cell_type": "code",
   "execution_count": 14,
   "id": "cfea1ad5",
   "metadata": {
    "execution": {
     "iopub.execute_input": "2022-11-24T02:00:18.050287Z",
     "iopub.status.busy": "2022-11-24T02:00:18.049453Z",
     "iopub.status.idle": "2022-11-24T02:00:18.397221Z",
     "shell.execute_reply": "2022-11-24T02:00:18.396176Z"
    },
    "papermill": {
     "duration": 0.36182,
     "end_time": "2022-11-24T02:00:18.400280",
     "exception": false,
     "start_time": "2022-11-24T02:00:18.038460",
     "status": "completed"
    },
    "tags": []
   },
   "outputs": [
    {
     "data": {
      "text/plain": [
       "XGBRegressor(base_score=0.5, booster='gbtree', callbacks=None,\n",
       "             colsample_bylevel=1, colsample_bynode=1, colsample_bytree=1,\n",
       "             early_stopping_rounds=None, enable_categorical=False,\n",
       "             eval_metric=None, gamma=0, gpu_id=-1, grow_policy='depthwise',\n",
       "             importance_type=None, interaction_constraints='',\n",
       "             learning_rate=0.300000012, max_bin=256, max_cat_to_onehot=4,\n",
       "             max_delta_step=0, max_depth=6, max_leaves=0, min_child_weight=1,\n",
       "             missing=nan, monotone_constraints='()', n_estimators=100, n_jobs=0,\n",
       "             num_parallel_tree=1, predictor='auto', random_state=0, reg_alpha=0,\n",
       "             reg_lambda=1, ...)"
      ]
     },
     "execution_count": 14,
     "metadata": {},
     "output_type": "execute_result"
    }
   ],
   "source": [
    "#loading the model\n",
    "from xgboost import XGBRegressor\n",
    "model=XGBRegressor()\n",
    "#training the model with x_train\n",
    "model.fit(X_train, Y_train)"
   ]
  },
  {
   "cell_type": "markdown",
   "id": "28d82ae1",
   "metadata": {
    "papermill": {
     "duration": 0.009621,
     "end_time": "2022-11-24T02:00:18.419247",
     "exception": false,
     "start_time": "2022-11-24T02:00:18.409626",
     "status": "completed"
    },
    "tags": []
   },
   "source": [
    "EVALUATION"
   ]
  },
  {
   "cell_type": "markdown",
   "id": "35b3f5f4",
   "metadata": {
    "papermill": {
     "duration": 0.008508,
     "end_time": "2022-11-24T02:00:18.437499",
     "exception": false,
     "start_time": "2022-11-24T02:00:18.428991",
     "status": "completed"
    },
    "tags": []
   },
   "source": [
    "Prediction on training data"
   ]
  },
  {
   "cell_type": "code",
   "execution_count": 15,
   "id": "72df0942",
   "metadata": {
    "execution": {
     "iopub.execute_input": "2022-11-24T02:00:18.458648Z",
     "iopub.status.busy": "2022-11-24T02:00:18.457857Z",
     "iopub.status.idle": "2022-11-24T02:00:18.494807Z",
     "shell.execute_reply": "2022-11-24T02:00:18.493566Z"
    },
    "papermill": {
     "duration": 0.051054,
     "end_time": "2022-11-24T02:00:18.498582",
     "exception": false,
     "start_time": "2022-11-24T02:00:18.447528",
     "status": "completed"
    },
    "tags": []
   },
   "outputs": [],
   "source": [
    "#accuracy for prediction on training data\n",
    "training_data_prediction = model.predict(X_train)"
   ]
  },
  {
   "cell_type": "code",
   "execution_count": 16,
   "id": "07815a97",
   "metadata": {
    "execution": {
     "iopub.execute_input": "2022-11-24T02:00:18.521459Z",
     "iopub.status.busy": "2022-11-24T02:00:18.521042Z",
     "iopub.status.idle": "2022-11-24T02:00:18.528383Z",
     "shell.execute_reply": "2022-11-24T02:00:18.526673Z"
    },
    "papermill": {
     "duration": 0.020799,
     "end_time": "2022-11-24T02:00:18.531592",
     "exception": false,
     "start_time": "2022-11-24T02:00:18.510793",
     "status": "completed"
    },
    "tags": []
   },
   "outputs": [
    {
     "name": "stdout",
     "output_type": "stream",
     "text": [
      "[134385.95  84054.11 109856.13 ...  84054.11 119079.7  119079.7 ]\n"
     ]
    }
   ],
   "source": [
    "print(training_data_prediction)"
   ]
  },
  {
   "cell_type": "code",
   "execution_count": 17,
   "id": "3011d445",
   "metadata": {
    "execution": {
     "iopub.execute_input": "2022-11-24T02:00:18.554758Z",
     "iopub.status.busy": "2022-11-24T02:00:18.553817Z",
     "iopub.status.idle": "2022-11-24T02:00:18.565102Z",
     "shell.execute_reply": "2022-11-24T02:00:18.563024Z"
    },
    "papermill": {
     "duration": 0.026725,
     "end_time": "2022-11-24T02:00:18.569244",
     "exception": false,
     "start_time": "2022-11-24T02:00:18.542519",
     "status": "completed"
    },
    "tags": []
   },
   "outputs": [
    {
     "name": "stdout",
     "output_type": "stream",
     "text": [
      "R squared error:  0.23593260832270402\n",
      "Mean absolute error:  28475.261693649598\n"
     ]
    }
   ],
   "source": [
    "from sklearn import metrics\n",
    "#R squared error\n",
    "score_1 =metrics.r2_score(Y_train,training_data_prediction)\n",
    "\n",
    "#Mean absolute error\n",
    "X_train, X_test, Y_train, Y_test = train_test_split(X, Y, test_size = 0.2, random_state = 2)\n",
    "score_2 = metrics.mean_absolute_error(Y_train,training_data_prediction)\n",
    "print(\"R squared error: \", score_1)\n",
    "print(\"Mean absolute error: \", score_2)\n",
    "\n",
    "#If the error is closer to 0 that means our model is performing perfectly\n"
   ]
  },
  {
   "cell_type": "code",
   "execution_count": null,
   "id": "b28bb797",
   "metadata": {
    "papermill": {
     "duration": 0.009133,
     "end_time": "2022-11-24T02:00:18.589131",
     "exception": false,
     "start_time": "2022-11-24T02:00:18.579998",
     "status": "completed"
    },
    "tags": []
   },
   "outputs": [],
   "source": []
  }
 ],
 "metadata": {
  "kernelspec": {
   "display_name": "Python 3",
   "language": "python",
   "name": "python3"
  },
  "language_info": {
   "codemirror_mode": {
    "name": "ipython",
    "version": 3
   },
   "file_extension": ".py",
   "mimetype": "text/x-python",
   "name": "python",
   "nbconvert_exporter": "python",
   "pygments_lexer": "ipython3",
   "version": "3.7.12"
  },
  "papermill": {
   "default_parameters": {},
   "duration": 16.45627,
   "end_time": "2022-11-24T02:00:19.524843",
   "environment_variables": {},
   "exception": null,
   "input_path": "__notebook__.ipynb",
   "output_path": "__notebook__.ipynb",
   "parameters": {},
   "start_time": "2022-11-24T02:00:03.068573",
   "version": "2.3.4"
  }
 },
 "nbformat": 4,
 "nbformat_minor": 5
}
